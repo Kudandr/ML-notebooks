{
 "cells": [
  {
   "cell_type": "code",
   "execution_count": null,
   "id": "71aa9b54",
   "metadata": {},
   "outputs": [],
   "source": [
    "# Скрипт для парсинга одного известного рейтингого агенства - \n",
    "# происходил сбор данных о пресс-релизах и присваемаеых в них рейтингах"
   ]
  },
  {
   "cell_type": "code",
   "execution_count": null,
   "id": "b3037aa8",
   "metadata": {},
   "outputs": [],
   "source": [
    "from time import sleep\n",
    "import requests\n",
    "from warnings import warningfilter\n",
    "warningfilter('ignore')\n",
    "\n",
    "import pandas as pd\n",
    "import numpy as np\n",
    "from tqdm import tqdm\n",
    "from selenium.webdriver import Chrome\n",
    "from selenium.webdriver.common.keys import Keys\n",
    "from selenium.webdriver.support.ui import WebDriverWait as wait\n",
    "from selenium.webdriver.support  import expected_conditions as EC\n",
    "from selenium.common.exceptions import NoSuchElementException\n",
    "from selenium.webdriver.support.ui import Select\n",
    "from selenium.webdriver.common.by import By\n",
    "from bs4 import BeautifulSoup"
   ]
  },
  {
   "cell_type": "code",
   "execution_count": null,
   "id": "19095bea",
   "metadata": {},
   "outputs": [],
   "source": [
    "url_of_page = ''\n",
    "\n",
    "browser = Chrome('chromedriver.exe')\n",
    "browser.get(url_of_page)\n",
    "page = browser.page_source\n",
    "soup = BeautifulSoup(page, 'html.parser')"
   ]
  },
  {
   "cell_type": "code",
   "execution_count": null,
   "id": "a671b764",
   "metadata": {},
   "outputs": [],
   "source": [
    "output = pd.DataFrame()\n",
    "number_of_written_comps = 0\n",
    "for row in tqdm(list(soup.find('div', {'class':'search-table__wrapper-main', 'data-type':'emits'}).children)):\n",
    "    company_info {'name':[], 'tax_code':[], 'sector':[], 'rating_final':[],\n",
    "                  'press_release_final':[], 'scale':[], 'rating':[], 'press_release':[]}\n",
    "    \n",
    "    company_url = 'https://...' + row.find('a').attrs['href']\n",
    "    ratePerson = row.find('a', {'class':'emits-row__item'}).text.strip()\n",
    "    rating_final = row.p.text\n",
    "    sector = row.find('div', {'class':'emits-row__item', 'data-type':'sector'}).text.strip()\n",
    "    press_realese = row.find('div', {'class':'emits-row__item', 'data-type':'pressRelease'}).text.strip()\n",
    "    \n",
    "    company_html = requests.get(company_url, verify=False)\n",
    "    company_soup = BeautifulSoup(company_html.content, 'html.parser')\n",
    "    if 'ИНН' not in ''.join([el.text for el in list(company_soup.find_all('div', {'class':'info info-bottom'}))]):\n",
    "        continue\n",
    "    try:\n",
    "        for el in list(company_soup.find_all('div', {'class':'info info-bottom'})):\n",
    "            if 'ИНН' in el.text:\n",
    "                tax_code = el.p.text.strip()\n",
    "    except: continue\n",
    "    try:\n",
    "        for el in [el for el in list(company_soup.find('div', {'class':'rating-list rating-list--js'}).children) if el!='\\n']\n",
    "        \n",
    "            scale = el.find('div', {'class':'item-info', 'data-type':'type'}).text.strip()\n",
    "            rating = el.find('div', {'class':'rating-widget'}).text.strip()\n",
    "            date = el.find('a', {'data-type':'pressRelease'}).text.strip()\n",
    "            \n",
    "            company_info['name'].append(ratePerson)\n",
    "            company_info['tax_code'].append(tax_code)\n",
    "            company_info['sector'].append(sector)\n",
    "            company_info['rating_final'].append(rating_final)\n",
    "            company_info['press_release_final'].append(press_release)\n",
    "            company_info['scale'].append(scale)\n",
    "            company_info['rating'].append(rating)\n",
    "            company_info['press_release'].append(date)\n",
    "    except:\n",
    "        company_info['name'].append(ratePerson)\n",
    "        company_info['tax_code'].append(tax_code)\n",
    "        company_info['sector'].append(sector)\n",
    "        company_info['rating_final'].append(rating_final)\n",
    "        company_info['press_release_final'].append(press_release)\n",
    "        company_info['scale'].append('Национальная рейтинговая шкала')\n",
    "        company_info['rating'].append(rating)\n",
    "        company_info['press_release'].append(date)\n",
    "    \n",
    "    output = pd.concat([output, pd.DataFrame(comapny_info)])\n",
    "    rnd = np.random.poisson(2.0)\n",
    "    number_of_written_comps += 1\n",
    "    sleep(rnd)\n",
    "print('Записано %i команий.' % number_of_written_comps)\n",
    "output['new_rating'] = output['rating'].apply(lambda x: x[:x.find(' ')])\n",
    "output['status'] = output['rating'].apply(lambda x: x[x.find(' '):].strip())\n",
    "output.rename({'rating':'rating_old', 'new_rating':'rating'}, axis=1, inplace=True)\n",
    "output.to_csv('rating_table.csv')"
   ]
  }
 ],
 "metadata": {
  "kernelspec": {
   "display_name": "Python 3",
   "language": "python",
   "name": "python3"
  },
  "language_info": {
   "codemirror_mode": {
    "name": "ipython",
    "version": 3
   },
   "file_extension": ".py",
   "mimetype": "text/x-python",
   "name": "python",
   "nbconvert_exporter": "python",
   "pygments_lexer": "ipython3",
   "version": "3.8.8"
  }
 },
 "nbformat": 4,
 "nbformat_minor": 5
}
